{
 "cells": [
  {
   "cell_type": "markdown",
   "metadata": {},
   "source": [
    "## Differential_SNP_Determination"
   ]
  },
  {
   "cell_type": "markdown",
   "metadata": {},
   "source": [
    "##### Marc Bañuls Tornero\n",
    "---"
   ]
  },
  {
   "cell_type": "code",
   "execution_count": 1,
   "metadata": {},
   "outputs": [],
   "source": [
    "# Modules needed for the analysis\n",
    "import numpy as np\n",
    "import pandas as pd\n",
    "import io\n",
    "import os"
   ]
  },
  {
   "cell_type": "markdown",
   "metadata": {},
   "source": [
    "### Introduction\n",
    "The initial files are 26 Variant Call Format files. The expected output is a table containing in one column all the positions found in the vcf files provided, and one column for each isolate indicating presence/absence of SNPs at each position."
   ]
  },
  {
   "cell_type": "markdown",
   "metadata": {},
   "source": [
    "### Methodology\n",
    "\n",
    "To do this, the main tools used will be Python code and the two most used data science libraries in Python: Numpy and Pandas.\n",
    "\n",
    "The procedure designed to obtain the expected output is:\n",
    "- Design a function to open vcf files and read them without its metadata and as Pandas DataFrames\n",
    "- Create a Pandas DataFrame with the unique SNPs positions of all vcf files, including the information of its Position (POS), Reference base (REF) and Alternative base (ALT).\n",
    "- Compare the unique positions, Ref and Alt bases of each vcf file with the respective ones in the DataFrame with the unique SNPs. Then add to the DataFrame a column for each vcf file with the results. If the unique position is found in the isolate, it will be marked as a \"1\". Otherwise it will be a \"0\".\n",
    "- Determine differential SNPs of each strain"
   ]
  },
  {
   "cell_type": "markdown",
   "metadata": {},
   "source": [
    "#### - Design a function to open vcf files\n",
    "The vcf files have been uploaded to the folder 'vcf_files'. After that, defining a function will be helpful to open the vcf files and read them as Pandas DataFrames."
   ]
  },
  {
   "cell_type": "code",
   "execution_count": 2,
   "metadata": {},
   "outputs": [],
   "source": [
    "def read_vcf(path):\n",
    "    # Open the vcf file and read only the lines that\n",
    "    # do not contain metadata (marked with two hash marks \"##\")\n",
    "    lines = []\n",
    "    with open(path, \"r\") as f:\n",
    "        for line in f:\n",
    "            if not line.startswith(\"##\"):\n",
    "                lines.append(line)\n",
    "    \n",
    "    # The output desired is a Pandas DataFrame:\n",
    "    return pd.read_csv(\n",
    "        # io.StringIO is used to read the data in lines\n",
    "        io.StringIO(''.join(lines)),\n",
    "        sep='\\t'\n",
    "    # Hash removal in header\n",
    "    ).rename(columns={'#CHROM': 'CHROM'})"
   ]
  },
  {
   "cell_type": "markdown",
   "metadata": {},
   "source": [
    "To be able to use the **read_vcf** function it's needed the path of the vcf files and their names easily callable. To do this, a variable with the full path and a list with all the names of the vcf files are created. Also, it's advisable to sort the filenames list for better readability and organization."
   ]
  },
  {
   "cell_type": "code",
   "execution_count": 3,
   "metadata": {},
   "outputs": [],
   "source": [
    "path = \"/home/vcf_files/\"\n",
    "filenames = sorted(os.listdir(path))"
   ]
  },
  {
   "cell_type": "markdown",
   "metadata": {},
   "source": [
    "Now with the path, names and function, the files are easily callable and readable. "
   ]
  },
  {
   "cell_type": "markdown",
   "metadata": {},
   "source": [
    "#### - Create a DataFrame with unique positions, Ref and Alt bases\n",
    "\n",
    "To create a Pandas DataFrame with all the possible SNPs (including its position, Ref and Alt bases), we create three lists. In **pos_list** there will be all the positions of the SNPS, in **ref_list** all the Reference bases for each SNPs, and in **alt_list** all its respective alternative bases. Then we iterate through all the vcf files and append to each list its respective data (positions, ref and alt bases)."
   ]
  },
  {
   "cell_type": "code",
   "execution_count": 4,
   "metadata": {},
   "outputs": [],
   "source": [
    "pos_list = []\n",
    "ref_list = []\n",
    "alt_list = []\n",
    "for name in filenames:\n",
    "    fullpath = path + name\n",
    "    sample = read_vcf(fullpath)\n",
    "    # The SNP positions are in the column \"POS\" of the vcf file \n",
    "    for i in sample.POS:\n",
    "        pos_list.append(i)\n",
    "    \n",
    "    # In the column \"REF\" are the Reference bases\n",
    "    for i in sample.REF:\n",
    "        ref_list.append(i)\n",
    "    \n",
    "    # In the column \"ALT\" are the Alternative bases\n",
    "    for i in sample.ALT:\n",
    "        alt_list.append(i)"
   ]
  },
  {
   "cell_type": "markdown",
   "metadata": {},
   "source": [
    "Now with all the lists we can create a Pandas DataFrame with all the unique SNPs, using the method *drop_duplicates()* from the Pandas library. In this DataFrame we have in the first column the Position, in the second column the Reference base and in the third column the Alternative base of each SNP. This DataFrame will be called **df_snps**."
   ]
  },
  {
   "cell_type": "code",
   "execution_count": 5,
   "metadata": {},
   "outputs": [],
   "source": [
    "df_snps = pd.DataFrame(\n",
    "{\"POS\": pos_list,\n",
    "\"REF\": ref_list,\n",
    " \"ALT\": alt_list\n",
    "}).drop_duplicates()"
   ]
  },
  {
   "cell_type": "markdown",
   "metadata": {},
   "source": [
    "#### - Compare the unique positions of the DataFrame with the positions in each vcf file\n",
    "\n",
    "Now we have to add a column representing each isolate (a total of 26 columns) that informs if the specific isolate has a SNP or not in each position using the \"POS\", \"REF\" and \"ALT\" columns of **df_snps** as reference. To do so, we iterate through the 26 vcf files and read them as Pandas DataFrames (with the function **read_vcf** previously defined). After that, we create an empty list **list_positions** that will be used to store the results checked for each file separately.\n",
    "\n",
    "For each file we iterate through each row of the **df_snps** DataFrame and we check if the unique SNP exists in the in the vcf file. To do so we check if the Position, Reference and Alternative base are the same in the position of the vcf file checked. If the unique position exist in the file, a \"1\" is appended to **list_positions**. Otherwise, a 0 is appended to the list. As we are doing this using iterations, the created list is correctly ordered with the unique positions that are in the Pandas DataFrame.\n",
    "\n",
    "When all the unique positions are checked, the list is added as a column to the **df_snps** DataFrame, with the name of the file as a header (to improve readability of the names we cut the part of the name that is the same in all files). Using an iteration is possible to automatically create the named columns for each isolate checked succesfully."
   ]
  },
  {
   "cell_type": "code",
   "execution_count": 6,
   "metadata": {},
   "outputs": [],
   "source": [
    "# To iterate through all vcf files (strains):\n",
    "for name in filenames:\n",
    "    fullpath = path + name\n",
    "    isolate = read_vcf(fullpath)\n",
    "    list_positions = []\n",
    "    \n",
    "    # To iterate through all the rows (SNPs):\n",
    "    for i in range(len(df_snps)):\n",
    "        # Check if the row with the exact POS, REF and ALT\n",
    "        # exist in the vcf file of the strain\n",
    "        if df_snps.iloc[i,0] in isolate.POS.to_numpy() and \\\n",
    "        df_snps.iloc[i,1] in isolate[isolate.POS == df_snps.iloc[i,0]].REF.to_numpy() and \\\n",
    "        df_snps.iloc[i,2] in isolate[isolate.POS == df_snps.iloc[i,0]].ALT.to_numpy():\n",
    "            list_positions.append(1)\n",
    "        else:\n",
    "            list_positions.append(0)\n",
    "    \n",
    "    df_snps[name[:-26]] = list_positions"
   ]
  },
  {
   "cell_type": "markdown",
   "metadata": {},
   "source": [
    "#### Determine differential SNPs\n",
    "\n",
    "To get the SNPs that only appear in one strain of all the vcf files (differential SNPs) we can create a separate Pandas DataFrame with them. To fill the DataFrame we will create the lists **pos_unique**, **ref_unique**, **alt_unique** and **name_unique** to store the information.\n",
    "\n",
    "To check if a SNP from **df_snps** appear only in one vcf file (one strain) we can sum all the strain columns iterating for each row (that contains a unique SNP). If the sum gives the value of \"1\" it means that only one strain has a 1 and all the others have a 0 in that SNP, so the SNP only appears in one strain (differential).\n",
    "\n",
    "Now to find which strain has the specific SNP we iterate through all the columns of its row until a \"1\" is found. When the strain is found, we can append the information of the SNP and the name of the column to its respective created lists."
   ]
  },
  {
   "cell_type": "code",
   "execution_count": 7,
   "metadata": {},
   "outputs": [],
   "source": [
    "# Empty list creation:\n",
    "pos_unique = []\n",
    "ref_unique = []\n",
    "alt_unique = []\n",
    "name_unique = []\n",
    "\n",
    "# Iterate through df_snps rows:\n",
    "for i in range(len(df_snps)):\n",
    "    \n",
    "    # Do the sum from the 4rd column onwards (where \n",
    "    # the strain columns start) \n",
    "    if df_snps.iloc[i,3:].sum() == 1:\n",
    "        \n",
    "        # Iterate through the columns:\n",
    "        for j in range(len(df_snps.columns)):\n",
    "            \n",
    "            # To find the differential column:\n",
    "            if df_snps.iloc[i,j] == 1:\n",
    "                \n",
    "                # Append the row values of the SNP and\n",
    "                # the column name:\n",
    "                pos_unique.append(df_snps.iloc[i,0])\n",
    "                ref_unique.append(df_snps.iloc[i,1])\n",
    "                alt_unique.append(df_snps.iloc[i,2])\n",
    "                name_unique.append(df_snps.columns[j])\n",
    "            "
   ]
  },
  {
   "cell_type": "markdown",
   "metadata": {},
   "source": [
    "Lastly, with all the information stored in the lists, we can create a Pandas DataFrame with all the differential SNPs."
   ]
  },
  {
   "cell_type": "code",
   "execution_count": 8,
   "metadata": {},
   "outputs": [],
   "source": [
    "df_unique_snps = pd.DataFrame(\n",
    "{\"POS\": pos_unique,\n",
    "\"REF\": ref_unique,\n",
    " \"ALT\": alt_unique,\n",
    " \"NAME\": name_unique\n",
    "})"
   ]
  },
  {
   "cell_type": "markdown",
   "metadata": {},
   "source": [
    "### Results\n",
    "\n",
    "At this point we have a Pandas DataFrame named as **df_snps** that contains information of all the unique SNPs with the strains as columns to see the presence/absence of the specific SNP in each strain, and a Pandas DataFrame named as **df_unique_snps** that contains information only of differential SNPs and in which strains appear. Lastly we can save these Dataframe obtained as a tsv file."
   ]
  },
  {
   "cell_type": "code",
   "execution_count": 9,
   "metadata": {},
   "outputs": [],
   "source": [
    "# Index set to False to improve readability in file\n",
    "df_snps.to_csv('df_snps.tsv', sep = '\\t', index=False)\n",
    "df_unique_snps.to_csv('df_unique_snps.tsv', sep = '\\t', index=False)\n"
   ]
  },
  {
   "cell_type": "markdown",
   "metadata": {},
   "source": [
    "---"
   ]
  },
  {
   "cell_type": "markdown",
   "metadata": {},
   "source": [
    "Thank you for checking this test. If it was interesting/helpful or you have ideas to improve the code do not hesitate in contacting me."
   ]
  }
 ],
 "metadata": {
  "kernelspec": {
   "display_name": "Python 3",
   "language": "python",
   "name": "python3"
  },
  "language_info": {
   "codemirror_mode": {
    "name": "ipython",
    "version": 3
   },
   "file_extension": ".py",
   "mimetype": "text/x-python",
   "name": "python",
   "nbconvert_exporter": "python",
   "pygments_lexer": "ipython3",
   "version": "3.6.9"
  }
 },
 "nbformat": 4,
 "nbformat_minor": 2
}
